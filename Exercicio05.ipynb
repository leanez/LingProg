{
 "cells": [
  {
   "cell_type": "markdown",
   "metadata": {},
   "source": [
    "1 Linha: Crie a classe Linha que tem dois atributos, coordenada1 e coordenada2. Cada coordenada é uma tupla que carrega duas coordenadas cartesianas (x,y) que denotam pontos do segmento de reta. Faça métodos que calculem o comprimento do segmento de reta e sua inclinação."
   ]
  },
  {
   "cell_type": "code",
   "execution_count": 4,
   "metadata": {},
   "outputs": [
    {
     "name": "stdout",
     "output_type": "stream",
     "text": [
      "5.0\n",
      "0\n"
     ]
    }
   ],
   "source": [
    "import math\n",
    "class Linha:\n",
    "    def __init__(self, coordenada1, coordenada2):\n",
    "        self.coordenada1 = coordenada1\n",
    "        self.coordenada2 = coordenada2\n",
    "    \n",
    "    def comprimento(self):\n",
    "        return math.sqrt(((self.coordenada2[0] - self.coordenada1[0])**2) + ((self.coordenada2[1] - self.coordenada1[1])**2))\n",
    "    \n",
    "    def inclinacao(self):\n",
    "        return (self.coordenada2[1] - self.coordenada1[1]) / (self.coordenada2[0] - self.coordenada1[0])\n",
    "\n",
    "    \n",
    "l = Linha((2,1),(6,4))    \n",
    "print(l.comprimento())\n",
    "print(l.inclinacao())\n",
    "       "
   ]
  },
  {
   "cell_type": "markdown",
   "metadata": {},
   "source": [
    "2 Figuras: Crie a seguinte hierarquia de classes de figuras geométricas. \n",
    "a. A classe abstrata Figura deve ter o método abstrato area.\n",
    "b. A classe concreta Circulo é subclasse de Figura. \n",
    "c. A classe abstrata Poligono é subclasse de Figura e deve ter os atributos base e altura . \n",
    "d. As classes concretas Triangulo, Losango, Retangulo e Quadrado são subclasses de Poligono. Tente criar mais uma generalização aqui olhando as fórmulas da área. \n",
    "e. Os polígonos Retangulo e Quadrado devem implementar a interface Diagonal, que deve ter um método que calcula a diagonal. \n",
    "f. Crie uma classe Geometria com uma lista de Figuras com pelo menos uma figura de cada e imprima suas áreas, perímetros e diagonais. "
   ]
  },
  {
   "cell_type": "markdown",
   "metadata": {},
   "source": [
    "3 Jogo de Blackjack: Faça um joguinho simples em Python.\n",
    "Aqui estão os requisitos: - Você precisa criar um jogo de BlackJack (21g baseado em texto simples - O jogo precisa ter um jogador contra um croupier automatzado. - O jogador pode desistr ou bater. - O jogador deve ser capaz de escolher o seu valor de aposta. - Você precisa acompanhar o dinheiro total do jogador. - Você precisa alertar o jogador de vitórias, derrotas ou estouros, etc ...\n",
    "E o mais importante:\n",
    "Você deve usar OOP e classes em alguma parte do seu jogo. Você não pode simplesmente usar funções no seu jogo. Use classes para ajudá-lo a definir o deck e a mão do jogador. Há muitas maneiras certas de fazer isso, então explore bem!\n"
   ]
  },
  {
   "cell_type": "code",
   "execution_count": null,
   "metadata": {},
   "outputs": [],
   "source": []
  }
 ],
 "metadata": {
  "kernelspec": {
   "display_name": "Python 2",
   "language": "python",
   "name": "python2"
  },
  "language_info": {
   "codemirror_mode": {
    "name": "ipython",
    "version": 2
   },
   "file_extension": ".py",
   "mimetype": "text/x-python",
   "name": "python",
   "nbconvert_exporter": "python",
   "pygments_lexer": "ipython2",
   "version": "2.7.15"
  }
 },
 "nbformat": 4,
 "nbformat_minor": 2
}

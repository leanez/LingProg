{
 "cells": [
  {
   "cell_type": "markdown",
   "metadata": {},
   "source": [
    "Nota: Cada exercício a seguir deve ser resolvido de três formas diferentes:\n",
    "1. Sem usar a notação com @\n",
    "2. Usando a notação com @, implementando os decorators por meio de funções\n",
    "3. Usando a notação com @, implementando os decorators por meio de classes"
   ]
  },
  {
   "cell_type": "markdown",
   "metadata": {},
   "source": [
    "1. Escreva uma função que calcula a soma dos n primeiros números naturais, dado que n é recebido como parâmetro. Escreva um decorator que garanta que o valor recebido é natural (maior ou igual a 1).\n"
   ]
  },
  {
   "cell_type": "code",
   "execution_count": 3,
   "metadata": {},
   "outputs": [
    {
     "name": "stdout",
     "output_type": "stream",
     "text": [
      "55\n",
      "Número menor que 1\n",
      "0\n"
     ]
    }
   ],
   "source": [
    "# Com@Classes\n",
    "class Validar:\n",
    "\tdef __init__(self,f):\n",
    "\t\tself.f = f\n",
    "\tdef __call__(self,n):\n",
    "\t\tif (n>=1):\n",
    "\t\t\treturn self.f(n)\n",
    "\t\telse:\n",
    "\t\t\tprint(\"Número menor que 1\")\n",
    "\t\t\treturn 0\n",
    "@Validar\n",
    "def outra_funcao(n):\n",
    "\tsoma=0\n",
    "\tfor x in range(n+1):\n",
    "\t\tsoma = soma + x\n",
    "\treturn soma\n",
    "\n",
    "print(outra_funcao(10))\n",
    "print(outra_funcao(0))"
   ]
  },
  {
   "cell_type": "code",
   "execution_count": 6,
   "metadata": {},
   "outputs": [
    {
     "name": "stdout",
     "output_type": "stream",
     "text": [
      "1\n",
      "Número menor que 1\n",
      "0\n"
     ]
    }
   ],
   "source": [
    "# Com@Funcoes\n",
    "def valida (f):\n",
    "\tdef soma_n_primeiros(n):\n",
    "\t\tif (n>=1):\n",
    "\t\t\treturn f(n)\n",
    "\t\telse:\n",
    "\t\t\tprint(\"Número menor que 1\")\n",
    "\t\t\treturn 0\n",
    "\treturn soma_n_primeiros\n",
    "\n",
    "@valida\n",
    "def outra_funcao(n):\n",
    "\tsoma=0\n",
    "\tfor x in range(n+1):\n",
    "\t\tsoma = soma + x\n",
    "\treturn soma\n",
    "\n",
    "print(outra_funcao(1))\n",
    "print(outra_funcao(0))"
   ]
  },
  {
   "cell_type": "code",
   "execution_count": 8,
   "metadata": {},
   "outputs": [
    {
     "name": "stdout",
     "output_type": "stream",
     "text": [
      "28\n",
      "Número menor que 1\n",
      "0\n"
     ]
    }
   ],
   "source": [
    "# Sem@\n",
    "def valida (f):\n",
    "\tdef soma_n_primeiros(n):\n",
    "\t\tif (n>=1):\n",
    "\t\t\treturn f(n)\n",
    "\t\telse:\n",
    "\t\t\tprint(\"Número menor que 1\")\n",
    "\t\t\treturn 0\n",
    "\treturn soma_n_primeiros\n",
    "def outra_funcao(n):\n",
    "\tsoma=0\n",
    "\tfor x in range(n+1):\n",
    "\t\tsoma = soma + x\n",
    "\treturn soma\n",
    "\n",
    "outra_funcao = valida(outra_funcao)\n",
    "print(outra_funcao(7))\n",
    "print(outra_funcao(0))"
   ]
  },
  {
   "cell_type": "code",
   "execution_count": null,
   "metadata": {},
   "outputs": [],
   "source": []
  }
 ],
 "metadata": {
  "kernelspec": {
   "display_name": "Python 2",
   "language": "python",
   "name": "python2"
  },
  "language_info": {
   "codemirror_mode": {
    "name": "ipython",
    "version": 2
   },
   "file_extension": ".py",
   "mimetype": "text/x-python",
   "name": "python",
   "nbconvert_exporter": "python",
   "pygments_lexer": "ipython2",
   "version": "2.7.15"
  }
 },
 "nbformat": 4,
 "nbformat_minor": 2
}
